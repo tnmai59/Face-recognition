{
 "cells": [
  {
   "cell_type": "code",
   "execution_count": 1,
   "metadata": {},
   "outputs": [],
   "source": [
    "from utils import *\n",
    "from contextlib import redirect_stdout\n",
    "import warnings\n",
    "\n",
    "# Model\n",
    "from sklearn.decomposition import PCA\n",
    "from sklearn.naive_bayes import GaussianNB\n",
    "from sklearn.neighbors import KNeighborsClassifier\n",
    "from sklearn.tree import DecisionTreeClassifier\n",
    "from sklearn.ensemble import RandomForestClassifier\n",
    "from sklearn.linear_model import LogisticRegression\n",
    "from sklearn.discriminant_analysis import LinearDiscriminantAnalysis\n",
    "from sklearn.svm import SVC\n",
    "\n",
    "warnings.filterwarnings('ignore')"
   ]
  },
  {
   "cell_type": "code",
   "execution_count": 2,
   "metadata": {},
   "outputs": [],
   "source": [
    "root_path = 'D:/Face recognition/pics'\n",
    "n_components = 50"
   ]
  },
  {
   "cell_type": "markdown",
   "metadata": {},
   "source": [
    "# Data preparation"
   ]
  },
  {
   "cell_type": "code",
   "execution_count": 3,
   "metadata": {},
   "outputs": [
    {
     "name": "stderr",
     "output_type": "stream",
     "text": [
      "100%|██████████| 40/40 [00:00<00:00, 86.27it/s] \n"
     ]
    }
   ],
   "source": [
    "X, y = create_database(root_path)"
   ]
  },
  {
   "cell_type": "code",
   "execution_count": 4,
   "metadata": {},
   "outputs": [
    {
     "data": {
      "image/png": "[encoded data removed]",
      "text/plain": [
       "<Figure size 800x600 with 1 Axes>"
      ]
     },
     "metadata": {},
     "output_type": "display_data"
    }
   ],
   "source": [
    "pca=PCA()\n",
    "pca.fit(X)\n",
    "\n",
    "plt.figure(1, figsize=(8,6))\n",
    "\n",
    "plt.plot(pca.explained_variance_, linewidth=2)\n",
    "\n",
    "plt.xlabel('Components')\n",
    "plt.ylabel('Explained Variaces')\n",
    "plt.show()"
   ]
  },
  {
   "cell_type": "code",
   "execution_count": 5,
   "metadata": {},
   "outputs": [],
   "source": [
    "pca=PCA(n_components=n_components)\n",
    "pca.fit(X)\n",
    "X_pca=pca.transform(X)"
   ]
  },
  {
   "cell_type": "markdown",
   "metadata": {},
   "source": [
    "# Fit data with distance bases"
   ]
  },
  {
   "cell_type": "code",
   "execution_count": 6,
   "metadata": {},
   "outputs": [],
   "source": [
    "methods = [euclidean_distance, mahattan_distance, minkowski_distance, sse,\n",
    "           ab_distance, ccb_distance, mahalanobis_distance, chi2_distance,\n",
    "           canbera_distance, modified_mahattan_distance]"
   ]
  },
  {
   "cell_type": "code",
   "execution_count": 7,
   "metadata": {},
   "outputs": [
    {
     "name": "stderr",
     "output_type": "stream",
     "text": [
      "100%|██████████| 80/80 [00:00<00:00, 7919.20it/s]\n",
      "100%|██████████| 80/80 [00:00<00:00, 9983.47it/s]\n",
      "100%|██████████| 80/80 [00:00<00:00, 9926.47it/s]\n",
      "100%|██████████| 80/80 [00:00<00:00, 8514.62it/s]\n",
      "100%|██████████| 80/80 [00:00<00:00, 8840.82it/s]\n"
     ]
    },
    {
     "name": "stdout",
     "output_type": "stream",
     "text": [
      "<function euclidean_distance at 0x0000029EAA8E3F78> cross validation score: 0.96750\n",
      "<function mahattan_distance at 0x0000029EAA8AA9D8> cross validation score: 0.96500\n",
      "<function minkowski_distance at 0x0000029EAA912798> cross validation score: 0.96250\n",
      "<function sse at 0x0000029EAA912C18> cross validation score: 0.96750\n",
      "<function ab_distance at 0x0000029EAA917DC8> cross validation score: 0.96500\n",
      "<function ccb_distance at 0x0000029EAA917F78> cross validation score: 0.96500\n",
      "<function mahalanobis_distance at 0x0000029EAA91B288> cross validation score: 0.93750\n",
      "<function chi2_distance at 0x0000029EAA91B1F8> cross validation score: 0.00500\n",
      "<function canbera_distance at 0x0000029EAA91B168> cross validation score: 0.94500\n",
      "<function modified_mahattan_distance at 0x0000029EAA91BDC8> cross validation score: 0.96750\n"
     ]
    }
   ],
   "source": [
    "for method in methods:\n",
    "    with open(os.devnull, 'w') as f, redirect_stdout(f):\n",
    "        score = cross_validation_db(X_pca, y, 5, method)\n",
    "    print(f'{str(method)} cross validation score: {score:.5f}')"
   ]
  },
  {
   "cell_type": "markdown",
   "metadata": {},
   "source": [
    "# Fit data with ML model"
   ]
  },
  {
   "cell_type": "code",
   "execution_count": 8,
   "metadata": {},
   "outputs": [],
   "source": [
    "models=[]\n",
    "models.append(('LDA', LinearDiscriminantAnalysis()))\n",
    "models.append((\"LR\",LogisticRegression()))\n",
    "models.append((\"NB\",GaussianNB()))\n",
    "models.append((\"KNN\",KNeighborsClassifier()))\n",
    "models.append((\"DT\",DecisionTreeClassifier()))\n",
    "models.append((\"SVM\",SVC()))\n",
    "models.append((\"RF\",RandomForestClassifier()))\n",
    "\n"
   ]
  },
  {
   "cell_type": "code",
   "execution_count": 9,
   "metadata": {},
   "outputs": [
    {
     "name": "stdout",
     "output_type": "stream",
     "text": [
      "LDA mean cross validations score:0.99000\n",
      "LR mean cross validations score:0.98750\n",
      "NB mean cross validations score:0.88750\n",
      "KNN mean cross validations score:0.88500\n",
      "DT mean cross validations score:0.60750\n",
      "SVM mean cross validations score:0.96750\n",
      "RF mean cross validations score:0.92750\n"
     ]
    }
   ],
   "source": [
    "cross_validation_ml(X_pca, y, 5, models)"
   ]
  },
  {
   "cell_type": "code",
   "execution_count": null,
   "metadata": {},
   "outputs": [],
   "source": []
  }
 ],
 "metadata": {
  "kernelspec": {
   "display_name": "facenet",
   "language": "python",
   "name": "python3"
  },
  "language_info": {
   "codemirror_mode": {
    "name": "ipython",
    "version": 3
   },
   "file_extension": ".py",
   "mimetype": "text/x-python",
   "name": "python",
   "nbconvert_exporter": "python",
   "pygments_lexer": "ipython3",
   "version": "3.7.12"
  }
 },
 "nbformat": 4,
 "nbformat_minor": 2
}

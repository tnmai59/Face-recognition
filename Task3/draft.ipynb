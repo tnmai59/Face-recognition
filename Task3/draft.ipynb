{
 "cells": [
  {
   "cell_type": "markdown",
   "metadata": {},
   "source": [
    "# Setting up"
   ]
  },
  {
   "cell_type": "code",
   "execution_count": 1,
   "metadata": {},
   "outputs": [],
   "source": [
    "# Common\n",
    "import os\n",
    "import cv2 as cv\n",
    "import numpy as np\n",
    "from IPython.display import clear_output as cls\n",
    "import re\n",
    "\n",
    "# Data \n",
    "from tqdm import tqdm\n",
    "from glob import glob\n",
    "\n",
    "# Data Visuaalization\n",
    "import plotly.express as px\n",
    "import matplotlib.pyplot as plt\n",
    "\n",
    "# Model\n",
    "from tensorflow.keras.models import load_model\n",
    "from sklearn.svm import SVC\n",
    "from sklearn.preprocessing import LabelEncoder\n",
    "from imageio import imread\n",
    "from skimage.transform import resize\n",
    "\n",
    "# Predefined variables\n",
    "image_size =160"
   ]
  },
  {
   "cell_type": "code",
   "execution_count": 2,
   "metadata": {},
   "outputs": [
    {
     "name": "stdout",
     "output_type": "stream",
     "text": [
      "Total number of individuals: 1020/n\n"
     ]
    }
   ],
   "source": [
    "# Specify the root directory path\n",
    "root_path = 'D:/Face recognition/VN-celeb/'\n",
    "\n",
    "# Collect all the person names\n",
    "dir_names = os.listdir(root_path)\n",
    "person_names = [name for name in dir_names]\n",
    "n_individuals = len(person_names)\n",
    "\n",
    "print(f\"Total number of individuals: {n_individuals}/n\")"
   ]
  },
  {
   "cell_type": "code",
   "execution_count": 3,
   "metadata": {},
   "outputs": [],
   "source": [
    "cascade_path = '../model/cv2/haarcascade_frontalface_alt2.xml'"
   ]
  },
  {
   "cell_type": "code",
   "execution_count": 4,
   "metadata": {},
   "outputs": [
    {
     "name": "stdout",
     "output_type": "stream",
     "text": [
      "WARNING:tensorflow:No training configuration found in the save file, so the model was *not* compiled. Compile it manually.\n"
     ]
    }
   ],
   "source": [
    "model = load_model('../model/facenet-keras/facenet_keras.h5')"
   ]
  },
  {
   "cell_type": "markdown",
   "metadata": {},
   "source": [
    "## Ultility functions"
   ]
  },
  {
   "cell_type": "code",
   "execution_count": 5,
   "metadata": {},
   "outputs": [],
   "source": [
    "def get_train_test_split(rootpath, dir_names, train_size=0.8):\n",
    "    train_filepaths, test_filepaths = [], []\n",
    "    dir_names = os.listdir(rootpath)\n",
    "    for name in tqdm(dir_names, desc='Train test split', total=len(dir_names)):\n",
    "        count = 0\n",
    "        file_names = os.listdir(rootpath + name)\n",
    "        # print(file_names)\n",
    "        train_temp, test_temp = [], []\n",
    "        for fn in file_names:\n",
    "            file_path = rootpath + name + '/' + fn\n",
    "            if count < len(file_names)*train_size:\n",
    "                train_temp.append(file_path)\n",
    "            else:\n",
    "                test_filepaths.append(file_path)\n",
    "            count += 1\n",
    "        train_filepaths.append(train_temp)\n",
    "        # test_filepaths.append(test_temp)\n",
    "    return train_filepaths, test_filepaths"
   ]
  },
  {
   "cell_type": "code",
   "execution_count": 6,
   "metadata": {},
   "outputs": [],
   "source": [
    "def prewhiten(x):\n",
    "    if x.ndim == 4:\n",
    "        axis = (1, 2, 3)\n",
    "        size = x[0].size\n",
    "    elif x.ndim == 3:\n",
    "        axis = (0, 1, 2)\n",
    "        size = x.size\n",
    "    else:\n",
    "        raise ValueError('Dimension should be 3 or 4')\n",
    "\n",
    "    mean = np.mean(x, axis=axis, keepdims=True)\n",
    "    std = np.std(x, axis=axis, keepdims=True)\n",
    "    std_adj = np.maximum(std, 1.0/np.sqrt(size))\n",
    "    y = (x - mean) / std_adj\n",
    "    return y\n",
    "\n",
    "def l2_normalize(x, axis=-1, epsilon=1e-10):\n",
    "    output = x / np.sqrt(np.maximum(np.sum(np.square(x), axis=axis, keepdims=True), epsilon))\n",
    "    return output"
   ]
  },
  {
   "cell_type": "code",
   "execution_count": 38,
   "metadata": {},
   "outputs": [],
   "source": [
    "def load_and_align_images(filepaths, margin):\n",
    "    cascade = cv.CascadeClassifier(cascade_path)\n",
    "    \n",
    "    aligned_images = []\n",
    "    for filepath in filepaths:\n",
    "        img = imread(filepath)\n",
    "\n",
    "        faces = cascade.detectMultiScale(img,\n",
    "                                         scaleFactor=1.1,\n",
    "                                         minNeighbors=3)\n",
    "        if len(faces) > 0:\n",
    "            (x, y, w, h) = faces[0]\n",
    "            x1 = max(0, x - margin//2)\n",
    "            y1 = max(0, y - margin//2)\n",
    "            x2 = min(img.shape[1], x + w + margin//2)\n",
    "            y2 = min(img.shape[0], y + h + margin//2)\n",
    "            # cropped = img[y-margin//2:y+h+margin//2,\n",
    "            #               x-margin//2:x+w+margin//2, :]\n",
    "            cropped = img[y1:y2, x1:x2, :]\n",
    "            aligned = resize(cropped, (image_size, image_size), mode='reflect')\n",
    "            aligned_images.append(aligned)\n",
    "    print(\"Dimensions of aligned images:\", [img.shape for img in aligned_images])       \n",
    "    return np.array(aligned_images)"
   ]
  },
  {
   "cell_type": "code",
   "execution_count": 39,
   "metadata": {},
   "outputs": [],
   "source": [
    "def calc_embs(filepaths, margin=10, batch_size=1):\n",
    "    aligned_images = prewhiten(load_and_align_images(filepaths, margin))\n",
    "    pd = []\n",
    "    for start in range(0, len(aligned_images), batch_size):\n",
    "        pd.append(model.predict_on_batch(aligned_images[start:start+batch_size]))\n",
    "    embs = l2_normalize(np.concatenate(pd))\n",
    "\n",
    "    return embs"
   ]
  },
  {
   "cell_type": "code",
   "execution_count": 40,
   "metadata": {},
   "outputs": [],
   "source": [
    "def train(dir_basepath, names, max_num_img=10):\n",
    "    labels = []\n",
    "    embs = []\n",
    "    for i, name in tqdm(enumerate(names), total=len(names)):\n",
    "        # dirpath = os.path.abspath(dir_basepath + name)\n",
    "        # filepaths = [os.path.join(dirpath, f) for f in os.listdir(dirpath)][:max_num_img]\n",
    "        filepaths = dir_basepath[i][:max_num_img]\n",
    "        # print(filepaths)\n",
    "        embs_ = calc_embs(filepaths)    \n",
    "        labels.extend([name] * len(embs_))\n",
    "        embs.append(embs_)\n",
    "        \n",
    "    embs = np.concatenate(embs)\n",
    "    le = LabelEncoder().fit(labels)\n",
    "    y = le.transform(labels)\n",
    "    clf = SVC(kernel='linear', probability=True).fit(embs, y)\n",
    "    return le, clf"
   ]
  },
  {
   "cell_type": "code",
   "execution_count": 41,
   "metadata": {},
   "outputs": [],
   "source": [
    "def infer(le, clf, filepaths):\n",
    "    embs = calc_embs(filepaths)\n",
    "    pred = le.inverse_transform(clf.predict(embs))\n",
    "    return pred"
   ]
  },
  {
   "cell_type": "markdown",
   "metadata": {},
   "source": [
    "# Train test split"
   ]
  },
  {
   "cell_type": "code",
   "execution_count": 42,
   "metadata": {},
   "outputs": [
    {
     "name": "stderr",
     "output_type": "stream",
     "text": [
      "Train test split: 100%|██████████| 1020/1020 [00:00<00:00, 8233.40it/s]\n"
     ]
    },
    {
     "data": {
      "text/plain": [
       "(1020, 4203)"
      ]
     },
     "execution_count": 42,
     "metadata": {},
     "output_type": "execute_result"
    }
   ],
   "source": [
    "trainpaths, testpaths = get_train_test_split(root_path, dir_names)\n",
    "len(trainpaths), len(testpaths)"
   ]
  },
  {
   "cell_type": "code",
   "execution_count": 43,
   "metadata": {},
   "outputs": [
    {
     "name": "stderr",
     "output_type": "stream",
     "text": [
      "Creating test data labels: 100%|██████████| 4203/4203 [00:00<00:00, 370225.55it/s]\n"
     ]
    }
   ],
   "source": [
    "test_labels = []\n",
    "for p in tqdm(testpaths, total=len(testpaths), desc='Creating test data labels'):\n",
    "    label = re.findall(r'VN-celeb/(\\d+)/', p)[0]\n",
    "    test_labels.append(label)\n"
   ]
  },
  {
   "cell_type": "markdown",
   "metadata": {},
   "source": [
    "# Run model"
   ]
  },
  {
   "cell_type": "code",
   "execution_count": 44,
   "metadata": {},
   "outputs": [
    {
     "name": "stderr",
     "output_type": "stream",
     "text": [
      "  0%|          | 0/1020 [00:00<?, ?it/s]d:\\Face recognition\\facenet\\lib\\site-packages\\ipykernel_launcher.py:6: DeprecationWarning: Starting with ImageIO v3 the behavior of this function will switch to that of iio.v3.imread. To keep the current behavior (and make this warning disappear) use `import imageio.v2 as imageio` or call `imageio.v2.imread` directly.\n",
      "  \n"
     ]
    },
    {
     "name": "stdout",
     "output_type": "stream",
     "text": [
      "Dimensions of aligned images: [(160, 160, 3), (160, 160, 3), (160, 160, 3), (160, 160, 3), (160, 160, 3), (160, 160, 3), (160, 160, 3), (160, 160, 3)]\n"
     ]
    },
    {
     "name": "stderr",
     "output_type": "stream",
     "text": [
      "  0%|          | 1/1020 [00:00<15:57,  1.06it/s]"
     ]
    },
    {
     "name": "stdout",
     "output_type": "stream",
     "text": [
      "Dimensions of aligned images: [(160, 160, 3), (160, 160, 3), (160, 160, 3), (160, 160, 3), (160, 160, 3), (160, 160, 3), (160, 160, 3)]\n"
     ]
    },
    {
     "name": "stderr",
     "output_type": "stream",
     "text": [
      "  0%|          | 2/1020 [00:01<13:37,  1.25it/s]"
     ]
    },
    {
     "name": "stdout",
     "output_type": "stream",
     "text": [
      "Dimensions of aligned images: [(160, 160, 3), (160, 160, 3), (160, 160, 3), (160, 160, 3), (160, 160, 3), (160, 160, 3), (160, 160, 3)]\n"
     ]
    },
    {
     "name": "stderr",
     "output_type": "stream",
     "text": [
      "  0%|          | 3/1020 [00:02<12:38,  1.34it/s]"
     ]
    },
    {
     "name": "stdout",
     "output_type": "stream",
     "text": [
      "Dimensions of aligned images: [(160, 160, 3), (160, 160, 3), (160, 160, 3), (160, 160, 3), (160, 160, 3), (160, 160, 3)]\n"
     ]
    },
    {
     "name": "stderr",
     "output_type": "stream",
     "text": [
      "  0%|          | 4/1020 [00:02<11:09,  1.52it/s]"
     ]
    },
    {
     "name": "stdout",
     "output_type": "stream",
     "text": [
      "Dimensions of aligned images: [(160, 160, 3), (160, 160, 3), (160, 160, 3), (160, 160, 3), (160, 160, 3), (160, 160, 3), (160, 160, 3), (160, 160, 3)]\n"
     ]
    },
    {
     "name": "stderr",
     "output_type": "stream",
     "text": [
      "  1%|          | 6/1020 [00:03<08:49,  1.92it/s]"
     ]
    },
    {
     "name": "stdout",
     "output_type": "stream",
     "text": [
      "Dimensions of aligned images: [(160, 160, 3), (160, 160, 3)]\n",
      "Dimensions of aligned images: [(160, 160, 3), (160, 160, 3), (160, 160, 3), (160, 160, 3), (160, 160, 3), (160, 160, 3), (160, 160, 3), (160, 160, 3), (160, 160, 3)]\n"
     ]
    },
    {
     "name": "stderr",
     "output_type": "stream",
     "text": [
      "  1%|          | 7/1020 [00:04<11:01,  1.53it/s]"
     ]
    },
    {
     "name": "stdout",
     "output_type": "stream",
     "text": [
      "Dimensions of aligned images: [(160, 160, 3), (160, 160, 3), (160, 160, 3), (160, 160, 3), (160, 160, 3)]\n"
     ]
    },
    {
     "name": "stderr",
     "output_type": "stream",
     "text": [
      "  1%|          | 8/1020 [00:05<10:13,  1.65it/s]"
     ]
    },
    {
     "name": "stdout",
     "output_type": "stream",
     "text": [
      "Dimensions of aligned images: [(160, 160, 3), (160, 160, 3), (160, 160, 3), (160, 160, 3)]\n"
     ]
    },
    {
     "name": "stderr",
     "output_type": "stream",
     "text": [
      "  1%|          | 9/1020 [00:05<09:12,  1.83it/s]"
     ]
    },
    {
     "name": "stdout",
     "output_type": "stream",
     "text": [
      "Dimensions of aligned images: [(160, 160, 3), (160, 160, 3), (160, 160, 3), (160, 160, 3), (160, 160, 3), (160, 160, 3), (160, 160, 3)]\n"
     ]
    },
    {
     "name": "stderr",
     "output_type": "stream",
     "text": [
      "  1%|          | 10/1020 [00:06<09:43,  1.73it/s]"
     ]
    },
    {
     "name": "stdout",
     "output_type": "stream",
     "text": [
      "Dimensions of aligned images: [(160, 160, 3), (160, 160, 3), (160, 160, 3), (160, 160, 3), (160, 160, 3), (160, 160, 3), (160, 160, 3), (160, 160, 3), (160, 160, 3)]\n"
     ]
    },
    {
     "name": "stderr",
     "output_type": "stream",
     "text": [
      "  1%|          | 11/1020 [00:07<10:52,  1.55it/s]"
     ]
    },
    {
     "name": "stdout",
     "output_type": "stream",
     "text": [
      "Dimensions of aligned images: [(160, 160, 3), (160, 160, 3), (160, 160, 3)]\n"
     ]
    },
    {
     "name": "stderr",
     "output_type": "stream",
     "text": [
      "  1%|          | 12/1020 [00:07<08:56,  1.88it/s]"
     ]
    },
    {
     "name": "stdout",
     "output_type": "stream",
     "text": [
      "Dimensions of aligned images: [(160, 160, 3), (160, 160, 3), (160, 160, 3), (160, 160, 3), (160, 160, 3)]\n"
     ]
    },
    {
     "name": "stderr",
     "output_type": "stream",
     "text": [
      "  1%|▏         | 13/1020 [00:07<08:43,  1.92it/s]"
     ]
    },
    {
     "name": "stdout",
     "output_type": "stream",
     "text": [
      "Dimensions of aligned images: [(160, 160, 3), (160, 160, 3), (160, 160, 3), (160, 160, 3), (160, 160, 3), (160, 160, 3), (160, 160, 3), (160, 160, 3)]\n"
     ]
    },
    {
     "name": "stderr",
     "output_type": "stream",
     "text": [
      "  1%|▏         | 14/1020 [00:08<09:44,  1.72it/s]"
     ]
    },
    {
     "name": "stdout",
     "output_type": "stream",
     "text": [
      "Dimensions of aligned images: [(160, 160, 3), (160, 160, 3), (160, 160, 3), (160, 160, 3)]\n"
     ]
    },
    {
     "name": "stderr",
     "output_type": "stream",
     "text": [
      "  1%|▏         | 15/1020 [00:09<09:15,  1.81it/s]"
     ]
    },
    {
     "name": "stdout",
     "output_type": "stream",
     "text": [
      "Dimensions of aligned images: [(160, 160, 3), (160, 160, 3), (160, 160, 3), (160, 160, 3)]\n"
     ]
    },
    {
     "name": "stderr",
     "output_type": "stream",
     "text": [
      "  2%|▏         | 16/1020 [00:09<09:00,  1.86it/s]"
     ]
    },
    {
     "name": "stdout",
     "output_type": "stream",
     "text": [
      "Dimensions of aligned images: [(160, 160, 3), (160, 160, 3), (160, 160, 3), (160, 160, 3)]\n"
     ]
    },
    {
     "name": "stderr",
     "output_type": "stream",
     "text": [
      "  2%|▏         | 17/1020 [00:10<08:59,  1.86it/s]"
     ]
    },
    {
     "name": "stdout",
     "output_type": "stream",
     "text": [
      "Dimensions of aligned images: [(160, 160, 3), (160, 160, 3), (160, 160, 3), (160, 160, 3), (160, 160, 3), (160, 160, 3), (160, 160, 3), (160, 160, 3)]\n"
     ]
    },
    {
     "name": "stderr",
     "output_type": "stream",
     "text": [
      "  2%|▏         | 18/1020 [00:10<10:06,  1.65it/s]"
     ]
    },
    {
     "name": "stdout",
     "output_type": "stream",
     "text": [
      "Dimensions of aligned images: [(160, 160, 3), (160, 160, 3), (160, 160, 3), (160, 160, 3)]\n"
     ]
    },
    {
     "name": "stderr",
     "output_type": "stream",
     "text": [
      "  2%|▏         | 19/1020 [00:11<09:46,  1.71it/s]"
     ]
    },
    {
     "name": "stdout",
     "output_type": "stream",
     "text": [
      "Dimensions of aligned images: [(160, 160, 3), (160, 160, 3), (160, 160, 3), (160, 160, 3), (160, 160, 3), (160, 160, 3), (160, 160, 3), (160, 160, 3), (160, 160, 3), (160, 160, 3)]\n"
     ]
    },
    {
     "name": "stderr",
     "output_type": "stream",
     "text": [
      "  2%|▏         | 20/1020 [00:12<11:06,  1.50it/s]"
     ]
    },
    {
     "name": "stdout",
     "output_type": "stream",
     "text": [
      "Dimensions of aligned images: [(160, 160, 3), (160, 160, 3), (160, 160, 3), (160, 160, 3), (160, 160, 3), (160, 160, 3), (160, 160, 3), (160, 160, 3), (160, 160, 3)]\n"
     ]
    },
    {
     "name": "stderr",
     "output_type": "stream",
     "text": [
      "  2%|▏         | 21/1020 [00:13<12:01,  1.38it/s]"
     ]
    },
    {
     "name": "stdout",
     "output_type": "stream",
     "text": [
      "Dimensions of aligned images: [(160, 160, 3), (160, 160, 3), (160, 160, 3), (160, 160, 3), (160, 160, 3), (160, 160, 3), (160, 160, 3), (160, 160, 3)]\n"
     ]
    },
    {
     "name": "stderr",
     "output_type": "stream",
     "text": [
      "  2%|▏         | 22/1020 [00:13<12:06,  1.37it/s]"
     ]
    },
    {
     "name": "stdout",
     "output_type": "stream",
     "text": [
      "Dimensions of aligned images: [(160, 160, 3), (160, 160, 3), (160, 160, 3), (160, 160, 3), (160, 160, 3), (160, 160, 3), (160, 160, 3)]\n"
     ]
    },
    {
     "name": "stderr",
     "output_type": "stream",
     "text": [
      "  2%|▏         | 23/1020 [00:14<11:40,  1.42it/s]"
     ]
    },
    {
     "name": "stdout",
     "output_type": "stream",
     "text": [
      "Dimensions of aligned images: [(160, 160, 3), (160, 160, 3), (160, 160, 3), (160, 160, 3), (160, 160, 3), (160, 160, 3), (160, 160, 3), (160, 160, 3), (160, 160, 3)]\n"
     ]
    },
    {
     "name": "stderr",
     "output_type": "stream",
     "text": [
      "  2%|▏         | 24/1020 [00:15<12:09,  1.37it/s]"
     ]
    },
    {
     "name": "stdout",
     "output_type": "stream",
     "text": [
      "Dimensions of aligned images: [(160, 160, 3), (160, 160, 3), (160, 160, 3), (160, 160, 3), (160, 160, 3), (160, 160, 3), (160, 160, 3)]\n"
     ]
    },
    {
     "name": "stderr",
     "output_type": "stream",
     "text": [
      "  2%|▏         | 25/1020 [00:16<12:14,  1.35it/s]"
     ]
    },
    {
     "name": "stdout",
     "output_type": "stream",
     "text": [
      "Dimensions of aligned images: [(160, 160, 3), (160, 160, 3), (160, 160, 3), (160, 160, 3)]\n"
     ]
    },
    {
     "name": "stderr",
     "output_type": "stream",
     "text": [
      "  3%|▎         | 26/1020 [00:16<11:11,  1.48it/s]"
     ]
    },
    {
     "name": "stdout",
     "output_type": "stream",
     "text": [
      "Dimensions of aligned images: [(160, 160, 3), (160, 160, 3), (160, 160, 3), (160, 160, 3), (160, 160, 3), (160, 160, 3), (160, 160, 3), (160, 160, 3)]\n"
     ]
    },
    {
     "name": "stderr",
     "output_type": "stream",
     "text": [
      "  3%|▎         | 27/1020 [00:17<12:18,  1.34it/s]"
     ]
    },
    {
     "name": "stdout",
     "output_type": "stream",
     "text": [
      "Dimensions of aligned images: [(160, 160, 3), (160, 160, 3), (160, 160, 3), (160, 160, 3), (160, 160, 3), (160, 160, 3), (160, 160, 3), (160, 160, 3)]\n"
     ]
    },
    {
     "name": "stderr",
     "output_type": "stream",
     "text": [
      "  3%|▎         | 29/1020 [00:18<11:14,  1.47it/s]"
     ]
    },
    {
     "name": "stdout",
     "output_type": "stream",
     "text": [
      "Dimensions of aligned images: [(160, 160, 3), (160, 160, 3)]\n",
      "Dimensions of aligned images: [(160, 160, 3), (160, 160, 3), (160, 160, 3), (160, 160, 3), (160, 160, 3), (160, 160, 3), (160, 160, 3)]\n"
     ]
    },
    {
     "name": "stderr",
     "output_type": "stream",
     "text": [
      "  3%|▎         | 30/1020 [00:19<12:34,  1.31it/s]"
     ]
    },
    {
     "name": "stdout",
     "output_type": "stream",
     "text": [
      "Dimensions of aligned images: [(160, 160, 3), (160, 160, 3), (160, 160, 3), (160, 160, 3), (160, 160, 3), (160, 160, 3), (160, 160, 3), (160, 160, 3), (160, 160, 3)]\n"
     ]
    },
    {
     "name": "stderr",
     "output_type": "stream",
     "text": [
      "  3%|▎         | 31/1020 [00:20<13:46,  1.20it/s]"
     ]
    },
    {
     "name": "stdout",
     "output_type": "stream",
     "text": [
      "Dimensions of aligned images: [(160, 160, 3), (160, 160, 3), (160, 160, 3), (160, 160, 3)]\n"
     ]
    },
    {
     "name": "stderr",
     "output_type": "stream",
     "text": [
      "  3%|▎         | 32/1020 [00:21<12:16,  1.34it/s]"
     ]
    },
    {
     "name": "stdout",
     "output_type": "stream",
     "text": [
      "Dimensions of aligned images: [(160, 160, 3), (160, 160, 3), (160, 160, 3), (160, 160, 3), (160, 160, 3), (160, 160, 3), (160, 160, 3), (160, 160, 3), (160, 160, 3)]\n"
     ]
    },
    {
     "name": "stderr",
     "output_type": "stream",
     "text": [
      "  3%|▎         | 33/1020 [00:22<13:57,  1.18it/s]"
     ]
    },
    {
     "name": "stdout",
     "output_type": "stream",
     "text": [
      "Dimensions of aligned images: [(160, 160, 3), (160, 160, 3), (160, 160, 3), (160, 160, 3), (160, 160, 3), (160, 160, 3), (160, 160, 3)]\n"
     ]
    },
    {
     "name": "stderr",
     "output_type": "stream",
     "text": [
      "  3%|▎         | 34/1020 [00:23<14:04,  1.17it/s]"
     ]
    },
    {
     "name": "stdout",
     "output_type": "stream",
     "text": [
      "Dimensions of aligned images: [(160, 160, 3), (160, 160, 3), (160, 160, 3), (160, 160, 3)]\n"
     ]
    },
    {
     "name": "stderr",
     "output_type": "stream",
     "text": [
      "  3%|▎         | 35/1020 [00:23<12:43,  1.29it/s]"
     ]
    },
    {
     "name": "stdout",
     "output_type": "stream",
     "text": [
      "Dimensions of aligned images: [(160, 160, 3), (160, 160, 3), (160, 160, 3)]\n"
     ]
    },
    {
     "name": "stderr",
     "output_type": "stream",
     "text": [
      "  4%|▎         | 36/1020 [00:24<11:24,  1.44it/s]"
     ]
    },
    {
     "name": "stdout",
     "output_type": "stream",
     "text": [
      "Dimensions of aligned images: [(160, 160, 3), (160, 160, 3), (160, 160, 3), (160, 160, 3)]\n"
     ]
    },
    {
     "name": "stderr",
     "output_type": "stream",
     "text": [
      "  4%|▎         | 37/1020 [00:24<10:29,  1.56it/s]"
     ]
    },
    {
     "name": "stdout",
     "output_type": "stream",
     "text": [
      "Dimensions of aligned images: [(160, 160, 3), (160, 160, 3), (160, 160, 3), (160, 160, 3)]\n"
     ]
    },
    {
     "name": "stderr",
     "output_type": "stream",
     "text": [
      "  4%|▎         | 38/1020 [00:25<10:05,  1.62it/s]"
     ]
    },
    {
     "name": "stdout",
     "output_type": "stream",
     "text": [
      "Dimensions of aligned images: [(160, 160, 3), (160, 160, 3), (160, 160, 3), (160, 160, 3), (160, 160, 3), (160, 160, 3)]\n"
     ]
    },
    {
     "name": "stderr",
     "output_type": "stream",
     "text": [
      "  4%|▍         | 39/1020 [00:26<10:30,  1.56it/s]"
     ]
    },
    {
     "name": "stdout",
     "output_type": "stream",
     "text": [
      "Dimensions of aligned images: [(160, 160, 3), (160, 160, 3), (160, 160, 3), (160, 160, 3), (160, 160, 3)]\n"
     ]
    },
    {
     "name": "stderr",
     "output_type": "stream",
     "text": [
      "  4%|▍         | 41/1020 [00:26<08:24,  1.94it/s]"
     ]
    },
    {
     "name": "stdout",
     "output_type": "stream",
     "text": [
      "Dimensions of aligned images: [(160, 160, 3), (160, 160, 3)]\n",
      "Dimensions of aligned images: [(160, 160, 3), (160, 160, 3), (160, 160, 3), (160, 160, 3), (160, 160, 3), (160, 160, 3), (160, 160, 3), (160, 160, 3)]\n"
     ]
    },
    {
     "name": "stderr",
     "output_type": "stream",
     "text": [
      "  4%|▍         | 42/1020 [00:27<10:47,  1.51it/s]"
     ]
    },
    {
     "name": "stdout",
     "output_type": "stream",
     "text": [
      "Dimensions of aligned images: [(160, 160, 3), (160, 160, 3), (160, 160, 3), (160, 160, 3), (160, 160, 3), (160, 160, 3), (160, 160, 3), (160, 160, 3)]\n"
     ]
    },
    {
     "name": "stderr",
     "output_type": "stream",
     "text": [
      "  4%|▍         | 43/1020 [00:28<12:01,  1.35it/s]"
     ]
    },
    {
     "name": "stdout",
     "output_type": "stream",
     "text": [
      "Dimensions of aligned images: [(160, 160, 3), (160, 160, 3), (160, 160, 3), (160, 160, 3), (160, 160, 3)]\n"
     ]
    },
    {
     "name": "stderr",
     "output_type": "stream",
     "text": [
      "  4%|▍         | 45/1020 [00:29<09:33,  1.70it/s]"
     ]
    },
    {
     "name": "stdout",
     "output_type": "stream",
     "text": [
      "Dimensions of aligned images: [(160, 160, 3), (160, 160, 3)]\n",
      "Dimensions of aligned images: [(160, 160, 3), (160, 160, 3), (160, 160, 3), (160, 160, 3), (160, 160, 3)]\n"
     ]
    },
    {
     "name": "stderr",
     "output_type": "stream",
     "text": [
      "  5%|▍         | 46/1020 [00:30<09:45,  1.66it/s]"
     ]
    },
    {
     "name": "stdout",
     "output_type": "stream",
     "text": [
      "Dimensions of aligned images: [(160, 160, 3), (160, 160, 3), (160, 160, 3), (160, 160, 3), (160, 160, 3)]\n"
     ]
    },
    {
     "name": "stderr",
     "output_type": "stream",
     "text": [
      "  5%|▍         | 47/1020 [00:31<09:45,  1.66it/s]"
     ]
    },
    {
     "name": "stdout",
     "output_type": "stream",
     "text": [
      "Dimensions of aligned images: [(160, 160, 3), (160, 160, 3), (160, 160, 3), (160, 160, 3), (160, 160, 3), (160, 160, 3), (160, 160, 3), (160, 160, 3)]\n"
     ]
    },
    {
     "name": "stderr",
     "output_type": "stream",
     "text": [
      "  5%|▍         | 48/1020 [00:32<11:35,  1.40it/s]"
     ]
    },
    {
     "name": "stdout",
     "output_type": "stream",
     "text": [
      "Dimensions of aligned images: [(160, 160, 3), (160, 160, 3), (160, 160, 3), (160, 160, 3), (160, 160, 3), (160, 160, 3)]\n"
     ]
    },
    {
     "name": "stderr",
     "output_type": "stream",
     "text": [
      "  5%|▍         | 49/1020 [00:32<12:19,  1.31it/s]"
     ]
    },
    {
     "name": "stdout",
     "output_type": "stream",
     "text": [
      "Dimensions of aligned images: [(160, 160, 3), (160, 160, 3), (160, 160, 3), (160, 160, 3), (160, 160, 3), (160, 160, 3), (160, 160, 3), (160, 160, 3), (160, 160, 3), (160, 160, 3)]\n"
     ]
    },
    {
     "name": "stderr",
     "output_type": "stream",
     "text": [
      "  5%|▍         | 50/1020 [00:34<14:17,  1.13it/s]"
     ]
    },
    {
     "name": "stdout",
     "output_type": "stream",
     "text": [
      "Dimensions of aligned images: [(160, 160, 3), (160, 160, 3), (160, 160, 3), (160, 160, 3), (160, 160, 3), (160, 160, 3), (160, 160, 3)]\n"
     ]
    },
    {
     "name": "stderr",
     "output_type": "stream",
     "text": [
      "  5%|▌         | 51/1020 [00:34<14:08,  1.14it/s]"
     ]
    },
    {
     "name": "stdout",
     "output_type": "stream",
     "text": [
      "Dimensions of aligned images: [(160, 160, 3), (160, 160, 3), (160, 160, 3), (160, 160, 3), (160, 160, 3), (160, 160, 3), (160, 160, 3)]\n"
     ]
    },
    {
     "name": "stderr",
     "output_type": "stream",
     "text": [
      "  5%|▌         | 52/1020 [00:35<13:52,  1.16it/s]"
     ]
    },
    {
     "name": "stdout",
     "output_type": "stream",
     "text": [
      "Dimensions of aligned images: [(160, 160, 3), (160, 160, 3), (160, 160, 3), (160, 160, 3), (160, 160, 3), (160, 160, 3), (160, 160, 3), (160, 160, 3), (160, 160, 3)]\n"
     ]
    },
    {
     "name": "stderr",
     "output_type": "stream",
     "text": [
      "  5%|▌         | 53/1020 [00:36<14:30,  1.11it/s]"
     ]
    },
    {
     "name": "stdout",
     "output_type": "stream",
     "text": [
      "Dimensions of aligned images: [(160, 160, 3), (160, 160, 3), (160, 160, 3), (160, 160, 3), (160, 160, 3)]\n"
     ]
    },
    {
     "name": "stderr",
     "output_type": "stream",
     "text": [
      "  5%|▌         | 54/1020 [00:37<13:12,  1.22it/s]"
     ]
    },
    {
     "name": "stdout",
     "output_type": "stream",
     "text": [
      "Dimensions of aligned images: [(160, 160, 3), (160, 160, 3), (160, 160, 3), (160, 160, 3), (160, 160, 3), (160, 160, 3)]\n"
     ]
    },
    {
     "name": "stderr",
     "output_type": "stream",
     "text": [
      "  5%|▌         | 55/1020 [00:38<12:44,  1.26it/s]"
     ]
    },
    {
     "name": "stdout",
     "output_type": "stream",
     "text": [
      "Dimensions of aligned images: [(160, 160, 3), (160, 160, 3), (160, 160, 3), (160, 160, 3)]\n"
     ]
    },
    {
     "name": "stderr",
     "output_type": "stream",
     "text": [
      "  5%|▌         | 56/1020 [00:38<11:30,  1.40it/s]"
     ]
    },
    {
     "name": "stdout",
     "output_type": "stream",
     "text": [
      "Dimensions of aligned images: [(160, 160, 3), (160, 160, 3), (160, 160, 3), (160, 160, 3), (160, 160, 3), (160, 160, 3), (160, 160, 3)]\n"
     ]
    },
    {
     "name": "stderr",
     "output_type": "stream",
     "text": [
      "  6%|▌         | 57/1020 [00:39<12:24,  1.29it/s]"
     ]
    },
    {
     "name": "stdout",
     "output_type": "stream",
     "text": [
      "Dimensions of aligned images: [(160, 160, 3), (160, 160, 3), (160, 160, 3), (160, 160, 3), (160, 160, 3), (160, 160, 3), (160, 160, 3), (160, 160, 3)]\n"
     ]
    },
    {
     "name": "stderr",
     "output_type": "stream",
     "text": [
      "  6%|▌         | 58/1020 [00:40<13:35,  1.18it/s]"
     ]
    },
    {
     "name": "stdout",
     "output_type": "stream",
     "text": [
      "Dimensions of aligned images: [(160, 160, 3), (160, 160, 3), (160, 160, 3), (160, 160, 3), (160, 160, 3), (160, 160, 3), (160, 160, 3), (160, 160, 3), (160, 160, 3)]\n"
     ]
    },
    {
     "name": "stderr",
     "output_type": "stream",
     "text": [
      "  6%|▌         | 59/1020 [00:41<14:11,  1.13it/s]"
     ]
    },
    {
     "name": "stdout",
     "output_type": "stream",
     "text": [
      "Dimensions of aligned images: [(160, 160, 3), (160, 160, 3), (160, 160, 3), (160, 160, 3), (160, 160, 3), (160, 160, 3)]\n"
     ]
    },
    {
     "name": "stderr",
     "output_type": "stream",
     "text": [
      "  6%|▌         | 60/1020 [00:42<13:17,  1.20it/s]"
     ]
    },
    {
     "name": "stdout",
     "output_type": "stream",
     "text": [
      "Dimensions of aligned images: [(160, 160, 3), (160, 160, 3), (160, 160, 3), (160, 160, 3), (160, 160, 3), (160, 160, 3), (160, 160, 3), (160, 160, 3)]\n"
     ]
    },
    {
     "name": "stderr",
     "output_type": "stream",
     "text": [
      "  6%|▌         | 61/1020 [00:43<14:06,  1.13it/s]"
     ]
    },
    {
     "name": "stdout",
     "output_type": "stream",
     "text": [
      "Dimensions of aligned images: [(160, 160, 3), (160, 160, 3), (160, 160, 3), (160, 160, 3), (160, 160, 3), (160, 160, 3), (160, 160, 3)]\n"
     ]
    },
    {
     "name": "stderr",
     "output_type": "stream",
     "text": [
      "  6%|▌         | 62/1020 [00:44<14:00,  1.14it/s]"
     ]
    },
    {
     "name": "stdout",
     "output_type": "stream",
     "text": [
      "Dimensions of aligned images: [(160, 160, 3), (160, 160, 3), (160, 160, 3), (160, 160, 3), (160, 160, 3)]\n"
     ]
    },
    {
     "name": "stderr",
     "output_type": "stream",
     "text": [
      "  6%|▌         | 63/1020 [00:44<12:41,  1.26it/s]"
     ]
    },
    {
     "name": "stdout",
     "output_type": "stream",
     "text": [
      "Dimensions of aligned images: [(160, 160, 3), (160, 160, 3), (160, 160, 3), (160, 160, 3), (160, 160, 3), (160, 160, 3), (160, 160, 3), (160, 160, 3)]\n"
     ]
    },
    {
     "name": "stderr",
     "output_type": "stream",
     "text": [
      "  6%|▋         | 64/1020 [00:45<12:54,  1.23it/s]"
     ]
    },
    {
     "name": "stdout",
     "output_type": "stream",
     "text": [
      "Dimensions of aligned images: [(160, 160, 3), (160, 160, 3), (160, 160, 3), (160, 160, 3), (160, 160, 3), (160, 160, 3), (160, 160, 3)]\n"
     ]
    },
    {
     "name": "stderr",
     "output_type": "stream",
     "text": [
      "  6%|▋         | 65/1020 [00:46<12:56,  1.23it/s]"
     ]
    },
    {
     "name": "stdout",
     "output_type": "stream",
     "text": [
      "Dimensions of aligned images: [(160, 160, 3), (160, 160, 3), (160, 160, 3), (160, 160, 3), (160, 160, 3), (160, 160, 3), (160, 160, 3), (160, 160, 3), (160, 160, 3)]\n"
     ]
    },
    {
     "name": "stderr",
     "output_type": "stream",
     "text": [
      "  6%|▋         | 66/1020 [00:47<14:39,  1.08it/s]"
     ]
    },
    {
     "name": "stdout",
     "output_type": "stream",
     "text": [
      "Dimensions of aligned images: [(160, 160, 3), (160, 160, 3), (160, 160, 3), (160, 160, 3), (160, 160, 3), (160, 160, 3), (160, 160, 3)]\n"
     ]
    },
    {
     "name": "stderr",
     "output_type": "stream",
     "text": [
      "  7%|▋         | 67/1020 [00:48<14:50,  1.07it/s]"
     ]
    },
    {
     "name": "stdout",
     "output_type": "stream",
     "text": [
      "Dimensions of aligned images: [(160, 160, 3), (160, 160, 3), (160, 160, 3)]\n"
     ]
    },
    {
     "name": "stderr",
     "output_type": "stream",
     "text": [
      "  7%|▋         | 68/1020 [00:48<12:19,  1.29it/s]"
     ]
    },
    {
     "name": "stdout",
     "output_type": "stream",
     "text": [
      "Dimensions of aligned images: [(160, 160, 3), (160, 160, 3), (160, 160, 3), (160, 160, 3), (160, 160, 3), (160, 160, 3), (160, 160, 3)]\n"
     ]
    },
    {
     "name": "stderr",
     "output_type": "stream",
     "text": [
      "  7%|▋         | 69/1020 [00:49<13:12,  1.20it/s]"
     ]
    },
    {
     "name": "stdout",
     "output_type": "stream",
     "text": [
      "Dimensions of aligned images: [(160, 160, 3), (160, 160, 3), (160, 160, 3), (160, 160, 3), (160, 160, 3), (160, 160, 3), (160, 160, 3), (160, 160, 3)]\n"
     ]
    },
    {
     "name": "stderr",
     "output_type": "stream",
     "text": [
      "  7%|▋         | 70/1020 [00:50<13:24,  1.18it/s]"
     ]
    },
    {
     "name": "stdout",
     "output_type": "stream",
     "text": [
      "Dimensions of aligned images: [(160, 160, 3), (160, 160, 3), (160, 160, 3), (160, 160, 3), (160, 160, 3), (160, 160, 3), (160, 160, 3), (160, 160, 3)]\n"
     ]
    },
    {
     "name": "stderr",
     "output_type": "stream",
     "text": [
      "  7%|▋         | 71/1020 [00:51<14:13,  1.11it/s]"
     ]
    },
    {
     "name": "stdout",
     "output_type": "stream",
     "text": [
      "Dimensions of aligned images: [(160, 160, 3), (160, 160, 3), (160, 160, 3), (160, 160, 3), (160, 160, 3)]\n"
     ]
    },
    {
     "name": "stderr",
     "output_type": "stream",
     "text": [
      "  7%|▋         | 72/1020 [00:52<13:07,  1.20it/s]"
     ]
    },
    {
     "name": "stdout",
     "output_type": "stream",
     "text": [
      "Dimensions of aligned images: [(160, 160, 3), (160, 160, 3), (160, 160, 3), (160, 160, 3), (160, 160, 3), (160, 160, 3), (160, 160, 3), (160, 160, 3)]\n"
     ]
    },
    {
     "name": "stderr",
     "output_type": "stream",
     "text": [
      "  7%|▋         | 73/1020 [00:53<13:26,  1.17it/s]"
     ]
    },
    {
     "name": "stdout",
     "output_type": "stream",
     "text": [
      "Dimensions of aligned images: [(160, 160, 3), (160, 160, 3), (160, 160, 3), (160, 160, 3), (160, 160, 3), (160, 160, 3), (160, 160, 3), (160, 160, 3), (160, 160, 3)]\n"
     ]
    },
    {
     "name": "stderr",
     "output_type": "stream",
     "text": [
      "  7%|▋         | 74/1020 [00:54<13:54,  1.13it/s]"
     ]
    },
    {
     "name": "stdout",
     "output_type": "stream",
     "text": [
      "Dimensions of aligned images: [(160, 160, 3), (160, 160, 3), (160, 160, 3), (160, 160, 3), (160, 160, 3), (160, 160, 3), (160, 160, 3)]\n"
     ]
    },
    {
     "name": "stderr",
     "output_type": "stream",
     "text": [
      "  7%|▋         | 75/1020 [00:55<13:57,  1.13it/s]"
     ]
    },
    {
     "name": "stdout",
     "output_type": "stream",
     "text": [
      "Dimensions of aligned images: [(160, 160, 3), (160, 160, 3), (160, 160, 3)]\n"
     ]
    },
    {
     "name": "stderr",
     "output_type": "stream",
     "text": [
      "  7%|▋         | 76/1020 [00:55<11:24,  1.38it/s]"
     ]
    },
    {
     "name": "stdout",
     "output_type": "stream",
     "text": [
      "Dimensions of aligned images: [(160, 160, 3), (160, 160, 3), (160, 160, 3), (160, 160, 3), (160, 160, 3), (160, 160, 3), (160, 160, 3), (160, 160, 3), (160, 160, 3)]\n"
     ]
    },
    {
     "name": "stderr",
     "output_type": "stream",
     "text": [
      "  8%|▊         | 77/1020 [00:56<12:59,  1.21it/s]"
     ]
    },
    {
     "name": "stdout",
     "output_type": "stream",
     "text": [
      "Dimensions of aligned images: [(160, 160, 3), (160, 160, 3), (160, 160, 3), (160, 160, 3), (160, 160, 3), (160, 160, 3), (160, 160, 3), (160, 160, 3), (160, 160, 3)]\n"
     ]
    },
    {
     "name": "stderr",
     "output_type": "stream",
     "text": [
      "  8%|▊         | 78/1020 [00:57<14:27,  1.09it/s]"
     ]
    },
    {
     "name": "stdout",
     "output_type": "stream",
     "text": [
      "Dimensions of aligned images: [(160, 160, 3), (160, 160, 3), (160, 160, 3), (160, 160, 3), (160, 160, 3), (160, 160, 3), (160, 160, 3)]\n"
     ]
    },
    {
     "name": "stderr",
     "output_type": "stream",
     "text": [
      "  8%|▊         | 79/1020 [00:58<14:31,  1.08it/s]"
     ]
    },
    {
     "name": "stdout",
     "output_type": "stream",
     "text": [
      "Dimensions of aligned images: [(160, 160, 3), (160, 160, 3), (160, 160, 3), (160, 160, 3), (160, 160, 3), (160, 160, 3), (160, 160, 3), (160, 160, 3)]\n"
     ]
    },
    {
     "name": "stderr",
     "output_type": "stream",
     "text": [
      "  8%|▊         | 80/1020 [00:59<15:05,  1.04it/s]"
     ]
    },
    {
     "name": "stdout",
     "output_type": "stream",
     "text": [
      "Dimensions of aligned images: [(160, 160, 3), (160, 160, 3), (160, 160, 3), (160, 160, 3), (160, 160, 3), (160, 160, 3), (160, 160, 3)]\n"
     ]
    },
    {
     "name": "stderr",
     "output_type": "stream",
     "text": [
      "  8%|▊         | 81/1020 [01:00<15:03,  1.04it/s]"
     ]
    },
    {
     "name": "stdout",
     "output_type": "stream",
     "text": [
      "Dimensions of aligned images: [(160, 160, 3), (160, 160, 3), (160, 160, 3), (160, 160, 3), (160, 160, 3), (160, 160, 3), (160, 160, 3)]\n"
     ]
    },
    {
     "name": "stderr",
     "output_type": "stream",
     "text": [
      "  8%|▊         | 82/1020 [01:01<14:24,  1.08it/s]"
     ]
    },
    {
     "name": "stdout",
     "output_type": "stream",
     "text": [
      "Dimensions of aligned images: [(160, 160, 3), (160, 160, 3), (160, 160, 3), (160, 160, 3), (160, 160, 3), (160, 160, 3), (160, 160, 3), (160, 160, 3)]\n"
     ]
    },
    {
     "name": "stderr",
     "output_type": "stream",
     "text": [
      "  8%|▊         | 83/1020 [01:02<13:51,  1.13it/s]"
     ]
    },
    {
     "name": "stdout",
     "output_type": "stream",
     "text": [
      "Dimensions of aligned images: [(160, 160, 3), (160, 160, 3), (160, 160, 3), (160, 160, 3)]\n"
     ]
    },
    {
     "name": "stderr",
     "output_type": "stream",
     "text": [
      "  8%|▊         | 84/1020 [01:02<12:09,  1.28it/s]"
     ]
    },
    {
     "name": "stdout",
     "output_type": "stream",
     "text": [
      "Dimensions of aligned images: [(160, 160, 3), (160, 160, 3), (160, 160, 3), (160, 160, 3), (160, 160, 3), (160, 160, 3), (160, 160, 3), (160, 160, 3)]\n"
     ]
    },
    {
     "name": "stderr",
     "output_type": "stream",
     "text": [
      "  8%|▊         | 85/1020 [01:03<13:43,  1.14it/s]"
     ]
    },
    {
     "name": "stdout",
     "output_type": "stream",
     "text": [
      "Dimensions of aligned images: [(160, 160, 3), (160, 160, 3), (160, 160, 3), (160, 160, 3), (160, 160, 3), (160, 160, 3), (160, 160, 3)]\n"
     ]
    },
    {
     "name": "stderr",
     "output_type": "stream",
     "text": [
      "  8%|▊         | 86/1020 [01:04<13:28,  1.16it/s]"
     ]
    },
    {
     "name": "stdout",
     "output_type": "stream",
     "text": [
      "Dimensions of aligned images: [(160, 160, 3), (160, 160, 3), (160, 160, 3), (160, 160, 3), (160, 160, 3), (160, 160, 3), (160, 160, 3), (160, 160, 3)]\n"
     ]
    },
    {
     "name": "stderr",
     "output_type": "stream",
     "text": [
      "  9%|▊         | 87/1020 [01:05<13:06,  1.19it/s]"
     ]
    },
    {
     "name": "stdout",
     "output_type": "stream",
     "text": [
      "Dimensions of aligned images: [(160, 160, 3), (160, 160, 3), (160, 160, 3), (160, 160, 3), (160, 160, 3), (160, 160, 3)]\n"
     ]
    },
    {
     "name": "stderr",
     "output_type": "stream",
     "text": [
      "  9%|▊         | 88/1020 [01:06<12:32,  1.24it/s]"
     ]
    },
    {
     "name": "stdout",
     "output_type": "stream",
     "text": [
      "Dimensions of aligned images: [(160, 160, 3), (160, 160, 3), (160, 160, 3), (160, 160, 3), (160, 160, 3), (160, 160, 3)]\n"
     ]
    },
    {
     "name": "stderr",
     "output_type": "stream",
     "text": [
      "  9%|▊         | 89/1020 [01:07<12:26,  1.25it/s]"
     ]
    },
    {
     "name": "stdout",
     "output_type": "stream",
     "text": [
      "Dimensions of aligned images: [(160, 160, 3), (160, 160, 3), (160, 160, 3), (160, 160, 3), (160, 160, 3), (160, 160, 3)]\n"
     ]
    },
    {
     "name": "stderr",
     "output_type": "stream",
     "text": [
      "  9%|▉         | 90/1020 [01:07<12:44,  1.22it/s]"
     ]
    },
    {
     "name": "stdout",
     "output_type": "stream",
     "text": [
      "Dimensions of aligned images: [(160, 160, 3), (160, 160, 3), (160, 160, 3), (160, 160, 3), (160, 160, 3), (160, 160, 3)]\n"
     ]
    },
    {
     "name": "stderr",
     "output_type": "stream",
     "text": [
      "  9%|▉         | 91/1020 [01:08<11:53,  1.30it/s]"
     ]
    },
    {
     "name": "stdout",
     "output_type": "stream",
     "text": [
      "Dimensions of aligned images: [(160, 160, 3), (160, 160, 3), (160, 160, 3), (160, 160, 3)]\n"
     ]
    },
    {
     "name": "stderr",
     "output_type": "stream",
     "text": [
      "  9%|▉         | 92/1020 [01:09<10:50,  1.43it/s]"
     ]
    },
    {
     "name": "stdout",
     "output_type": "stream",
     "text": [
      "Dimensions of aligned images: [(160, 160, 3), (160, 160, 3), (160, 160, 3), (160, 160, 3), (160, 160, 3), (160, 160, 3), (160, 160, 3), (160, 160, 3), (160, 160, 3)]\n"
     ]
    },
    {
     "name": "stderr",
     "output_type": "stream",
     "text": [
      "  9%|▉         | 93/1020 [01:10<12:47,  1.21it/s]"
     ]
    },
    {
     "name": "stdout",
     "output_type": "stream",
     "text": [
      "Dimensions of aligned images: [(160, 160, 3), (160, 160, 3), (160, 160, 3), (160, 160, 3), (160, 160, 3), (160, 160, 3), (160, 160, 3), (160, 160, 3), (160, 160, 3)]\n"
     ]
    },
    {
     "name": "stderr",
     "output_type": "stream",
     "text": [
      "  9%|▉         | 94/1020 [01:11<13:10,  1.17it/s]"
     ]
    },
    {
     "name": "stdout",
     "output_type": "stream",
     "text": [
      "Dimensions of aligned images: [(160, 160, 3), (160, 160, 3), (160, 160, 3), (160, 160, 3), (160, 160, 3)]\n"
     ]
    },
    {
     "name": "stderr",
     "output_type": "stream",
     "text": [
      "  9%|▉         | 95/1020 [01:11<12:26,  1.24it/s]"
     ]
    },
    {
     "name": "stdout",
     "output_type": "stream",
     "text": [
      "Dimensions of aligned images: [(160, 160, 3), (160, 160, 3), (160, 160, 3), (160, 160, 3), (160, 160, 3), (160, 160, 3), (160, 160, 3)]\n"
     ]
    },
    {
     "name": "stderr",
     "output_type": "stream",
     "text": [
      "  9%|▉         | 96/1020 [01:12<12:58,  1.19it/s]"
     ]
    },
    {
     "name": "stdout",
     "output_type": "stream",
     "text": [
      "Dimensions of aligned images: [(160, 160, 3), (160, 160, 3), (160, 160, 3), (160, 160, 3), (160, 160, 3)]\n"
     ]
    },
    {
     "name": "stderr",
     "output_type": "stream",
     "text": [
      " 10%|▉         | 97/1020 [01:13<12:05,  1.27it/s]"
     ]
    },
    {
     "name": "stdout",
     "output_type": "stream",
     "text": [
      "Dimensions of aligned images: [(160, 160, 3), (160, 160, 3), (160, 160, 3), (160, 160, 3), (160, 160, 3), (160, 160, 3)]\n"
     ]
    },
    {
     "name": "stderr",
     "output_type": "stream",
     "text": [
      " 10%|▉         | 98/1020 [01:14<11:38,  1.32it/s]"
     ]
    },
    {
     "name": "stdout",
     "output_type": "stream",
     "text": [
      "Dimensions of aligned images: []\n"
     ]
    },
    {
     "name": "stderr",
     "output_type": "stream",
     "text": [
      "\n"
     ]
    },
    {
     "ename": "ValueError",
     "evalue": "Dimension should be 3 or 4",
     "output_type": "error",
     "traceback": [
      "\u001b[1;31m---------------------------------------------------------------------------\u001b[0m",
      "\u001b[1;31mValueError\u001b[0m                                Traceback (most recent call last)",
      "\u001b[1;32m~\\AppData\\Local\\Temp\\ipykernel_15100\\3462325892.py\u001b[0m in \u001b[0;36m<module>\u001b[1;34m\u001b[0m\n\u001b[1;32m----> 1\u001b[1;33m \u001b[0mle\u001b[0m\u001b[1;33m,\u001b[0m \u001b[0mclf\u001b[0m \u001b[1;33m=\u001b[0m \u001b[0mtrain\u001b[0m\u001b[1;33m(\u001b[0m\u001b[0mtrainpaths\u001b[0m\u001b[1;33m,\u001b[0m \u001b[0mdir_names\u001b[0m\u001b[1;33m)\u001b[0m\u001b[1;33m\u001b[0m\u001b[1;33m\u001b[0m\u001b[0m\n\u001b[0m",
      "\u001b[1;32m~\\AppData\\Local\\Temp\\ipykernel_15100\\3143535596.py\u001b[0m in \u001b[0;36mtrain\u001b[1;34m(dir_basepath, names, max_num_img)\u001b[0m\n\u001b[0;32m      7\u001b[0m         \u001b[0mfilepaths\u001b[0m \u001b[1;33m=\u001b[0m \u001b[0mdir_basepath\u001b[0m\u001b[1;33m[\u001b[0m\u001b[0mi\u001b[0m\u001b[1;33m]\u001b[0m\u001b[1;33m[\u001b[0m\u001b[1;33m:\u001b[0m\u001b[0mmax_num_img\u001b[0m\u001b[1;33m]\u001b[0m\u001b[1;33m\u001b[0m\u001b[1;33m\u001b[0m\u001b[0m\n\u001b[0;32m      8\u001b[0m         \u001b[1;31m# print(filepaths)\u001b[0m\u001b[1;33m\u001b[0m\u001b[1;33m\u001b[0m\u001b[1;33m\u001b[0m\u001b[0m\n\u001b[1;32m----> 9\u001b[1;33m         \u001b[0membs_\u001b[0m \u001b[1;33m=\u001b[0m \u001b[0mcalc_embs\u001b[0m\u001b[1;33m(\u001b[0m\u001b[0mfilepaths\u001b[0m\u001b[1;33m)\u001b[0m\u001b[1;33m\u001b[0m\u001b[1;33m\u001b[0m\u001b[0m\n\u001b[0m\u001b[0;32m     10\u001b[0m         \u001b[0mlabels\u001b[0m\u001b[1;33m.\u001b[0m\u001b[0mextend\u001b[0m\u001b[1;33m(\u001b[0m\u001b[1;33m[\u001b[0m\u001b[0mname\u001b[0m\u001b[1;33m]\u001b[0m \u001b[1;33m*\u001b[0m \u001b[0mlen\u001b[0m\u001b[1;33m(\u001b[0m\u001b[0membs_\u001b[0m\u001b[1;33m)\u001b[0m\u001b[1;33m)\u001b[0m\u001b[1;33m\u001b[0m\u001b[1;33m\u001b[0m\u001b[0m\n\u001b[0;32m     11\u001b[0m         \u001b[0membs\u001b[0m\u001b[1;33m.\u001b[0m\u001b[0mappend\u001b[0m\u001b[1;33m(\u001b[0m\u001b[0membs_\u001b[0m\u001b[1;33m)\u001b[0m\u001b[1;33m\u001b[0m\u001b[1;33m\u001b[0m\u001b[0m\n",
      "\u001b[1;32m~\\AppData\\Local\\Temp\\ipykernel_15100\\3076352274.py\u001b[0m in \u001b[0;36mcalc_embs\u001b[1;34m(filepaths, margin, batch_size)\u001b[0m\n\u001b[0;32m      1\u001b[0m \u001b[1;32mdef\u001b[0m \u001b[0mcalc_embs\u001b[0m\u001b[1;33m(\u001b[0m\u001b[0mfilepaths\u001b[0m\u001b[1;33m,\u001b[0m \u001b[0mmargin\u001b[0m\u001b[1;33m=\u001b[0m\u001b[1;36m10\u001b[0m\u001b[1;33m,\u001b[0m \u001b[0mbatch_size\u001b[0m\u001b[1;33m=\u001b[0m\u001b[1;36m1\u001b[0m\u001b[1;33m)\u001b[0m\u001b[1;33m:\u001b[0m\u001b[1;33m\u001b[0m\u001b[1;33m\u001b[0m\u001b[0m\n\u001b[1;32m----> 2\u001b[1;33m     \u001b[0maligned_images\u001b[0m \u001b[1;33m=\u001b[0m \u001b[0mprewhiten\u001b[0m\u001b[1;33m(\u001b[0m\u001b[0mload_and_align_images\u001b[0m\u001b[1;33m(\u001b[0m\u001b[0mfilepaths\u001b[0m\u001b[1;33m,\u001b[0m \u001b[0mmargin\u001b[0m\u001b[1;33m)\u001b[0m\u001b[1;33m)\u001b[0m\u001b[1;33m\u001b[0m\u001b[1;33m\u001b[0m\u001b[0m\n\u001b[0m\u001b[0;32m      3\u001b[0m     \u001b[0mpd\u001b[0m \u001b[1;33m=\u001b[0m \u001b[1;33m[\u001b[0m\u001b[1;33m]\u001b[0m\u001b[1;33m\u001b[0m\u001b[1;33m\u001b[0m\u001b[0m\n\u001b[0;32m      4\u001b[0m     \u001b[1;32mfor\u001b[0m \u001b[0mstart\u001b[0m \u001b[1;32min\u001b[0m \u001b[0mrange\u001b[0m\u001b[1;33m(\u001b[0m\u001b[1;36m0\u001b[0m\u001b[1;33m,\u001b[0m \u001b[0mlen\u001b[0m\u001b[1;33m(\u001b[0m\u001b[0maligned_images\u001b[0m\u001b[1;33m)\u001b[0m\u001b[1;33m,\u001b[0m \u001b[0mbatch_size\u001b[0m\u001b[1;33m)\u001b[0m\u001b[1;33m:\u001b[0m\u001b[1;33m\u001b[0m\u001b[1;33m\u001b[0m\u001b[0m\n\u001b[0;32m      5\u001b[0m         \u001b[0mpd\u001b[0m\u001b[1;33m.\u001b[0m\u001b[0mappend\u001b[0m\u001b[1;33m(\u001b[0m\u001b[0mmodel\u001b[0m\u001b[1;33m.\u001b[0m\u001b[0mpredict_on_batch\u001b[0m\u001b[1;33m(\u001b[0m\u001b[0maligned_images\u001b[0m\u001b[1;33m[\u001b[0m\u001b[0mstart\u001b[0m\u001b[1;33m:\u001b[0m\u001b[0mstart\u001b[0m\u001b[1;33m+\u001b[0m\u001b[0mbatch_size\u001b[0m\u001b[1;33m]\u001b[0m\u001b[1;33m)\u001b[0m\u001b[1;33m)\u001b[0m\u001b[1;33m\u001b[0m\u001b[1;33m\u001b[0m\u001b[0m\n",
      "\u001b[1;32m~\\AppData\\Local\\Temp\\ipykernel_15100\\2942835559.py\u001b[0m in \u001b[0;36mprewhiten\u001b[1;34m(x)\u001b[0m\n\u001b[0;32m      7\u001b[0m         \u001b[0msize\u001b[0m \u001b[1;33m=\u001b[0m \u001b[0mx\u001b[0m\u001b[1;33m.\u001b[0m\u001b[0msize\u001b[0m\u001b[1;33m\u001b[0m\u001b[1;33m\u001b[0m\u001b[0m\n\u001b[0;32m      8\u001b[0m     \u001b[1;32melse\u001b[0m\u001b[1;33m:\u001b[0m\u001b[1;33m\u001b[0m\u001b[1;33m\u001b[0m\u001b[0m\n\u001b[1;32m----> 9\u001b[1;33m         \u001b[1;32mraise\u001b[0m \u001b[0mValueError\u001b[0m\u001b[1;33m(\u001b[0m\u001b[1;34m'Dimension should be 3 or 4'\u001b[0m\u001b[1;33m)\u001b[0m\u001b[1;33m\u001b[0m\u001b[1;33m\u001b[0m\u001b[0m\n\u001b[0m\u001b[0;32m     10\u001b[0m \u001b[1;33m\u001b[0m\u001b[0m\n\u001b[0;32m     11\u001b[0m     \u001b[0mmean\u001b[0m \u001b[1;33m=\u001b[0m \u001b[0mnp\u001b[0m\u001b[1;33m.\u001b[0m\u001b[0mmean\u001b[0m\u001b[1;33m(\u001b[0m\u001b[0mx\u001b[0m\u001b[1;33m,\u001b[0m \u001b[0maxis\u001b[0m\u001b[1;33m=\u001b[0m\u001b[0maxis\u001b[0m\u001b[1;33m,\u001b[0m \u001b[0mkeepdims\u001b[0m\u001b[1;33m=\u001b[0m\u001b[1;32mTrue\u001b[0m\u001b[1;33m)\u001b[0m\u001b[1;33m\u001b[0m\u001b[1;33m\u001b[0m\u001b[0m\n",
      "\u001b[1;31mValueError\u001b[0m: Dimension should be 3 or 4"
     ]
    }
   ],
   "source": [
    "le, clf = train(trainpaths, dir_names)"
   ]
  },
  {
   "cell_type": "code",
   "execution_count": null,
   "metadata": {},
   "outputs": [],
   "source": []
  },
  {
   "cell_type": "code",
   "execution_count": 18,
   "metadata": {},
   "outputs": [],
   "source": [
    "cascade = cv.CascadeClassifier(cascade_path)"
   ]
  },
  {
   "cell_type": "code",
   "execution_count": 57,
   "metadata": {},
   "outputs": [
    {
     "name": "stderr",
     "output_type": "stream",
     "text": [
      "d:\\Face recognition\\facenet\\lib\\site-packages\\ipykernel_launcher.py:1: DeprecationWarning: Starting with ImageIO v3 the behavior of this function will switch to that of iio.v3.imread. To keep the current behavior (and make this warning disappear) use `import imageio.v2 as imageio` or call `imageio.v2.imread` directly.\n",
      "  \"\"\"Entry point for launching an IPython kernel.\n"
     ]
    }
   ],
   "source": [
    "img = imread(trainpaths[98][3])\n",
    "# img"
   ]
  },
  {
   "cell_type": "code",
   "execution_count": 54,
   "metadata": {},
   "outputs": [],
   "source": [
    "faces = cascade.detectMultiScale(img,\n",
    "                                         scaleFactor=1.1,\n",
    "                                         minNeighbors=3)"
   ]
  },
  {
   "cell_type": "code",
   "execution_count": 56,
   "metadata": {},
   "outputs": [
    {
     "data": {
      "text/plain": [
       "()"
      ]
     },
     "execution_count": 56,
     "metadata": {},
     "output_type": "execute_result"
    }
   ],
   "source": [
    "faces"
   ]
  },
  {
   "cell_type": "code",
   "execution_count": 48,
   "metadata": {},
   "outputs": [
    {
     "ename": "NameError",
     "evalue": "name 'x' is not defined",
     "output_type": "error",
     "traceback": [
      "\u001b[1;31m---------------------------------------------------------------------------\u001b[0m",
      "\u001b[1;31mNameError\u001b[0m                                 Traceback (most recent call last)",
      "\u001b[1;32m~\\AppData\\Local\\Temp\\ipykernel_15100\\32546335.py\u001b[0m in \u001b[0;36m<module>\u001b[1;34m\u001b[0m\n\u001b[1;32m----> 1\u001b[1;33m \u001b[0mx\u001b[0m\u001b[1;33m\u001b[0m\u001b[1;33m\u001b[0m\u001b[0m\n\u001b[0m",
      "\u001b[1;31mNameError\u001b[0m: name 'x' is not defined"
     ]
    }
   ],
   "source": [
    "x"
   ]
  },
  {
   "cell_type": "code",
   "execution_count": 49,
   "metadata": {},
   "outputs": [],
   "source": [
    "(x, y, w, h) = faces[0]"
   ]
  },
  {
   "cell_type": "code",
   "execution_count": 50,
   "metadata": {},
   "outputs": [],
   "source": [
    "margin=10\n",
    "cropped = img[y-margin//2:y+h+margin//2,\n",
    "                      x-margin//2:x+w+margin//2, :]"
   ]
  },
  {
   "cell_type": "code",
   "execution_count": 51,
   "metadata": {},
   "outputs": [
    {
     "data": {
      "text/plain": [
       "array([[[ 49,  44,  27],\n",
       "        [ 50,  45,  30],\n",
       "        [ 51,  45,  33],\n",
       "        ...,\n",
       "        [223,  66,  73],\n",
       "        [202,  36,  47],\n",
       "        [213,  47,  59]],\n",
       "\n",
       "       [[ 56,  48,  30],\n",
       "        [ 57,  49,  34],\n",
       "        [ 62,  53,  40],\n",
       "        ...,\n",
       "        [214,  55,  64],\n",
       "        [200,  34,  46],\n",
       "        [225,  58,  72]],\n",
       "\n",
       "       [[ 68,  56,  38],\n",
       "        [ 67,  53,  37],\n",
       "        [ 65,  52,  37],\n",
       "        ...,\n",
       "        [208,  46,  53],\n",
       "        [203,  35,  44],\n",
       "        [225,  55,  68]],\n",
       "\n",
       "       ...,\n",
       "\n",
       "       [[ 87,  35,  23],\n",
       "        [ 92,  41,  29],\n",
       "        [ 95,  39,  28],\n",
       "        ...,\n",
       "        [252,  68,  60],\n",
       "        [246,  70,  67],\n",
       "        [241,  85,  88]],\n",
       "\n",
       "       [[ 94,  35,  22],\n",
       "        [ 93,  41,  27],\n",
       "        [ 96,  44,  31],\n",
       "        ...,\n",
       "        [252,  64,  62],\n",
       "        [255,  70,  72],\n",
       "        [250,  77,  80]],\n",
       "\n",
       "       [[ 97,  34,  21],\n",
       "        [ 90,  38,  24],\n",
       "        [ 91,  39,  28],\n",
       "        ...,\n",
       "        [249,  61,  58],\n",
       "        [254,  69,  69],\n",
       "        [251,  77,  79]]], dtype=uint8)"
      ]
     },
     "execution_count": 51,
     "metadata": {},
     "output_type": "execute_result"
    }
   ],
   "source": [
    "cropped"
   ]
  },
  {
   "cell_type": "code",
   "execution_count": null,
   "metadata": {},
   "outputs": [
    {
     "ename": "ValueError",
     "evalue": "zero-size array to reduction operation minimum which has no identity",
     "output_type": "error",
     "traceback": [
      "\u001b[1;31m---------------------------------------------------------------------------\u001b[0m",
      "\u001b[1;31mValueError\u001b[0m                                Traceback (most recent call last)",
      "\u001b[1;32m~\\AppData\\Local\\Temp\\ipykernel_8716\\2300237178.py\u001b[0m in \u001b[0;36m<module>\u001b[1;34m\u001b[0m\n\u001b[1;32m----> 1\u001b[1;33m \u001b[0maligned\u001b[0m \u001b[1;33m=\u001b[0m \u001b[0mresize\u001b[0m\u001b[1;33m(\u001b[0m\u001b[0mcropped\u001b[0m\u001b[1;33m,\u001b[0m \u001b[1;33m(\u001b[0m\u001b[0mimage_size\u001b[0m\u001b[1;33m,\u001b[0m \u001b[0mimage_size\u001b[0m\u001b[1;33m)\u001b[0m\u001b[1;33m,\u001b[0m \u001b[0mmode\u001b[0m\u001b[1;33m=\u001b[0m\u001b[1;34m'reflect'\u001b[0m\u001b[1;33m)\u001b[0m\u001b[1;33m\u001b[0m\u001b[1;33m\u001b[0m\u001b[0m\n\u001b[0m",
      "\u001b[1;32md:\\Face recognition\\facenet\\lib\\site-packages\\skimage\\transform\\_warps.py\u001b[0m in \u001b[0;36mresize\u001b[1;34m(image, output_shape, order, mode, cval, clip, preserve_range, anti_aliasing, anti_aliasing_sigma)\u001b[0m\n\u001b[0;32m    163\u001b[0m \u001b[1;33m\u001b[0m\u001b[0m\n\u001b[0;32m    164\u001b[0m     \u001b[1;31m# Save input value range for clip\u001b[0m\u001b[1;33m\u001b[0m\u001b[1;33m\u001b[0m\u001b[1;33m\u001b[0m\u001b[0m\n\u001b[1;32m--> 165\u001b[1;33m     \u001b[0mimg_bounds\u001b[0m \u001b[1;33m=\u001b[0m \u001b[0mnp\u001b[0m\u001b[1;33m.\u001b[0m\u001b[0marray\u001b[0m\u001b[1;33m(\u001b[0m\u001b[1;33m[\u001b[0m\u001b[0mimage\u001b[0m\u001b[1;33m.\u001b[0m\u001b[0mmin\u001b[0m\u001b[1;33m(\u001b[0m\u001b[1;33m)\u001b[0m\u001b[1;33m,\u001b[0m \u001b[0mimage\u001b[0m\u001b[1;33m.\u001b[0m\u001b[0mmax\u001b[0m\u001b[1;33m(\u001b[0m\u001b[1;33m)\u001b[0m\u001b[1;33m]\u001b[0m\u001b[1;33m)\u001b[0m \u001b[1;32mif\u001b[0m \u001b[0mclip\u001b[0m \u001b[1;32melse\u001b[0m \u001b[1;32mNone\u001b[0m\u001b[1;33m\u001b[0m\u001b[1;33m\u001b[0m\u001b[0m\n\u001b[0m\u001b[0;32m    166\u001b[0m \u001b[1;33m\u001b[0m\u001b[0m\n\u001b[0;32m    167\u001b[0m     \u001b[1;31m# Translate modes used by np.pad to those used by scipy.ndimage\u001b[0m\u001b[1;33m\u001b[0m\u001b[1;33m\u001b[0m\u001b[1;33m\u001b[0m\u001b[0m\n",
      "\u001b[1;32md:\\Face recognition\\facenet\\lib\\site-packages\\numpy\\core\\_methods.py\u001b[0m in \u001b[0;36m_amin\u001b[1;34m(a, axis, out, keepdims, initial, where)\u001b[0m\n\u001b[0;32m     42\u001b[0m def _amin(a, axis=None, out=None, keepdims=False,\n\u001b[0;32m     43\u001b[0m           initial=_NoValue, where=True):\n\u001b[1;32m---> 44\u001b[1;33m     \u001b[1;32mreturn\u001b[0m \u001b[0mumr_minimum\u001b[0m\u001b[1;33m(\u001b[0m\u001b[0ma\u001b[0m\u001b[1;33m,\u001b[0m \u001b[0maxis\u001b[0m\u001b[1;33m,\u001b[0m \u001b[1;32mNone\u001b[0m\u001b[1;33m,\u001b[0m \u001b[0mout\u001b[0m\u001b[1;33m,\u001b[0m \u001b[0mkeepdims\u001b[0m\u001b[1;33m,\u001b[0m \u001b[0minitial\u001b[0m\u001b[1;33m,\u001b[0m \u001b[0mwhere\u001b[0m\u001b[1;33m)\u001b[0m\u001b[1;33m\u001b[0m\u001b[1;33m\u001b[0m\u001b[0m\n\u001b[0m\u001b[0;32m     45\u001b[0m \u001b[1;33m\u001b[0m\u001b[0m\n\u001b[0;32m     46\u001b[0m def _sum(a, axis=None, dtype=None, out=None, keepdims=False,\n",
      "\u001b[1;31mValueError\u001b[0m: zero-size array to reduction operation minimum which has no identity"
     ]
    }
   ],
   "source": [
    "aligned = resize(cropped, (image_size, image_size), mode='reflect')"
   ]
  },
  {
   "cell_type": "code",
   "execution_count": null,
   "metadata": {},
   "outputs": [],
   "source": [
    "if len(faces) > 0:\n",
    "    (x, y, w, h) = faces[0]\n",
    "    \n",
    "    # Adjust cropping region to ensure it stays within image boundaries\n",
    "    x1 = max(0, x - margin//2)\n",
    "    y1 = max(0, y - margin//2)\n",
    "    x2 = min(img.shape[1], x + w + margin//2)\n",
    "    y2 = min(img.shape[0], y + h + margin//2)\n",
    "    \n",
    "    # Perform cropping with adjusted coordinates\n",
    "    cropped = img[y1:y2, x1:x2, :]\n",
    "    \n",
    "    # Check if cropped array is empty\n",
    "    if cropped.size == 0:\n",
    "        print(\"Cropping region is outside image boundaries\")\n",
    "    else:\n",
    "        # Resize the cropped image to the desired size\n",
    "        aligned = resize(cropped, (image_size, image_size), mode='reflect')\n",
    "else:\n",
    "    print(\"No faces detected\")"
   ]
  },
  {
   "cell_type": "code",
   "execution_count": null,
   "metadata": {},
   "outputs": [],
   "source": []
  }
 ],
 "metadata": {
  "kernelspec": {
   "display_name": "facenet",
   "language": "python",
   "name": "python3"
  },
  "language_info": {
   "codemirror_mode": {
    "name": "ipython",
    "version": 3
   },
   "file_extension": ".py",
   "mimetype": "text/x-python",
   "name": "python",
   "nbconvert_exporter": "python",
   "pygments_lexer": "ipython3",
   "version": "3.7.12"
  }
 },
 "nbformat": 4,
 "nbformat_minor": 2
}

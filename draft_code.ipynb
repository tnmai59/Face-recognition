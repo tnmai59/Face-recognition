{
 "cells": [
  {
   "cell_type": "code",
   "execution_count": null,
   "metadata": {},
   "outputs": [],
   "source": [
    "from PIL import Image\n",
    "import numpy as np\n",
    "from numpy import asarray\n",
    "import os\n",
    "import pandas as pd\n",
    "from matplotlib import pyplot as plt\n",
    "from sklearn.preprocessing import StandardScaler\n",
    "from scipy.linalg import eigh\n",
    "from sklearn.metrics import accuracy_score"
   ]
  },
  {
   "cell_type": "code",
   "execution_count": null,
   "metadata": {},
   "outputs": [],
   "source": [
    "def get_train_test_splits(folder, train_size=8):\n",
    "    image_folders = []\n",
    "    for f in os.listdir(folder):\n",
    "        image_folders.append(f)\n",
    "    \n",
    "    x_first, y_first = True, True\n",
    "    y_train, y_test = [], []\n",
    "    \n",
    "    for f in image_folders:\n",
    "        loc = folder + '/' + f\n",
    "        count = 0\n",
    "        folnum = int(f[1:])\n",
    "        for file in os.listdir(loc):\n",
    "            file_loc = loc + '/' + file\n",
    "            image = Image.open(file_loc)\n",
    "            \n",
    "            pixels = asarray(image)\n",
    "            pixels = np.reshape(pixels,[1,pixels.shape[0]*pixels.shape[1]])\n",
    "\n",
    "            if count < train_size:\n",
    "                if x_first:\n",
    "                    X_train =  pixels\n",
    "                    x_first = False\n",
    "                else:\n",
    "                    X_train = np.vstack([X_train, pixels])\n",
    "                y_train.append(folnum)\n",
    "            else:\n",
    "                if y_first:\n",
    "                    X_test = pixels \n",
    "                    y_first = False\n",
    "                else:\n",
    "                    X_test = np.vstack([X_test, pixels])\n",
    "                y_test.append(folnum)\n",
    "            count += 1\n",
    "    return X_train, X_test, y_train, y_test\n",
    "        "
   ]
  },
  {
   "cell_type": "code",
   "execution_count": null,
   "metadata": {},
   "outputs": [],
   "source": [
    "X_train, X_test, y_train, y_test = get_train_test_splits(folder='pics', train_size=8)"
   ]
  },
  {
   "cell_type": "code",
   "execution_count": null,
   "metadata": {},
   "outputs": [],
   "source": [
    "from sklearn.decomposition import PCA\n",
    "from sklearn.ensemble import RandomForestClassifier\n",
    "from sklearn.model_selection import GridSearchCV\n",
    "from sklearn.metrics import classification_report"
   ]
  },
  {
   "cell_type": "code",
   "execution_count": null,
   "metadata": {},
   "outputs": [],
   "source": [
    "X_train.shape"
   ]
  },
  {
   "cell_type": "code",
   "execution_count": null,
   "metadata": {},
   "outputs": [],
   "source": [
    "X_test.shape"
   ]
  },
  {
   "cell_type": "code",
   "execution_count": null,
   "metadata": {},
   "outputs": [],
   "source": [
    "pca = PCA(n_components=150)\n",
    "X_train = pca.fit_transform(X_train)\n",
    "X_test = pca.transform(X_test)"
   ]
  },
  {
   "cell_type": "code",
   "execution_count": null,
   "metadata": {},
   "outputs": [],
   "source": [
    "X_train.shape"
   ]
  },
  {
   "cell_type": "code",
   "execution_count": null,
   "metadata": {},
   "outputs": [],
   "source": [
    "# print(pca.explained_variance_ratio_)\n",
    "plt.figure(figsize=(15,10))\n",
    "plt.ylim(0.0,1.1)\n",
    "plt.plot(np.cumsum(pca.explained_variance_ratio_), linewidth=3)\n",
    "# plt.axhline(y=0.95, color='r', linestyle='-')\n",
    "# plt.text(500, 0.85, '95% cut-off threshold', color = 'red', fontsize=14)\n",
    "plt.xlabel('number of components', fontsize=21)\n",
    "plt.ylabel('cumulative explained variance', fontsize=21)\n",
    "plt.title('Scree Plot using PCA', fontsize=24)\n",
    "# plt.rc('xtick', labelsize=16)\n",
    "plt.rc('font', size=16)\n",
    "# plt.rc('ytick', labelsize=16)\n",
    "plt.grid()\n",
    "plt.show()"
   ]
  },
  {
   "cell_type": "code",
   "execution_count": null,
   "metadata": {},
   "outputs": [],
   "source": [
    "param = {\n",
    "    'bootstrap': [True, False],\n",
    "    'max_depth': [10, 20, 30, 40, \n",
    "                #   50, 60, 70, 80, 90, 100, None\n",
    "                  ],\n",
    "    # 'max_features': ['auto', 'sqrt'],\n",
    "    'min_samples_leaf': [1, 2, 4],\n",
    "    'min_samples_split': [2, 5, 10],\n",
    "    'n_estimators': [200, 400, 600, 800, \n",
    "                    #  1000, 1200, 1400, 1600, 1800, 2000\n",
    "                     ]\n",
    "    }"
   ]
  },
  {
   "cell_type": "code",
   "execution_count": null,
   "metadata": {},
   "outputs": [],
   "source": [
    "rft = RandomForestClassifier(bootstrap=True, max_depth=10, min_samples_leaf=1, min_samples_split=5, n_estimators=400)\n",
    "rft.fit(X_train, y_train)\n",
    "y_pred = rft.predict(X_test)"
   ]
  },
  {
   "cell_type": "code",
   "execution_count": null,
   "metadata": {},
   "outputs": [],
   "source": [
    "X_test.shape"
   ]
  },
  {
   "cell_type": "code",
   "execution_count": null,
   "metadata": {},
   "outputs": [],
   "source": [
    "y_pred.shape"
   ]
  },
  {
   "cell_type": "code",
   "execution_count": null,
   "metadata": {},
   "outputs": [],
   "source": [
    "print(classification_report(y_test, y_pred))"
   ]
  },
  {
   "cell_type": "code",
   "execution_count": null,
   "metadata": {},
   "outputs": [],
   "source": [
    "rf = GridSearchCV(RandomForestClassifier(),param,verbose=10)\n",
    "rf.fit(X_train, y_train)"
   ]
  },
  {
   "cell_type": "code",
   "execution_count": null,
   "metadata": {},
   "outputs": [],
   "source": []
  }
 ],
 "metadata": {
  "kernelspec": {
   "display_name": "frvenv",
   "language": "python",
   "name": "python3"
  },
  "language_info": {
   "codemirror_mode": {
    "name": "ipython",
    "version": 3
   },
   "file_extension": ".py",
   "mimetype": "text/x-python",
   "name": "python",
   "nbconvert_exporter": "python",
   "pygments_lexer": "ipython3",
   "version": "3.11.5"
  }
 },
 "nbformat": 4,
 "nbformat_minor": 2
}
